{
 "cells": [
  {
   "cell_type": "code",
   "execution_count": 31,
   "id": "5fe4b120",
   "metadata": {},
   "outputs": [],
   "source": [
    "from models.pre_processing import PreProcessing"
   ]
  },
  {
   "cell_type": "code",
   "execution_count": 32,
   "id": "50c16b9b",
   "metadata": {},
   "outputs": [],
   "source": [
    "text = \"A inteligência artificial está transformando o mund0, com n0vas aplicações; Algoritmos de aprendizado de máquina sã0 essenciais para isso; A automação robótica é um dos camp0s mais interessantes da tecnologia hoje em-dia; O! processamento de8linguagem natural (PLN) permite que computadores compre+endam a linguagem humana; Chatbots e assistentes de voz sã0 um bom exemplo do PLN em ação.\""
   ]
  },
  {
   "cell_type": "code",
   "execution_count": 33,
   "id": "2da35847",
   "metadata": {},
   "outputs": [
    {
     "name": "stderr",
     "output_type": "stream",
     "text": [
      "[nltk_data] Downloading package stopwords to\n",
      "[nltk_data]     C:\\Users\\mbela\\AppData\\Roaming\\nltk_data...\n",
      "[nltk_data]   Package stopwords is already up-to-date!\n"
     ]
    }
   ],
   "source": [
    "pre_processing = PreProcessing()"
   ]
  },
  {
   "cell_type": "code",
   "execution_count": 34,
   "id": "ab5298a3",
   "metadata": {},
   "outputs": [],
   "source": [
    "text = pre_processing.split_in_documents(text)"
   ]
  },
  {
   "cell_type": "code",
   "execution_count": 37,
   "id": "f47906cd",
   "metadata": {},
   "outputs": [
    {
     "data": {
      "text/plain": [
       "[['A',\n",
       "  'inteligência',\n",
       "  'artificial',\n",
       "  'está',\n",
       "  'transformando',\n",
       "  'o',\n",
       "  'mund0',\n",
       "  ',',\n",
       "  'com',\n",
       "  'n0vas',\n",
       "  'aplicações'],\n",
       " ['Algoritmos',\n",
       "  'de',\n",
       "  'aprendizado',\n",
       "  'de',\n",
       "  'máquina',\n",
       "  'sã0',\n",
       "  'essenciais',\n",
       "  'para',\n",
       "  'isso'],\n",
       " ['A',\n",
       "  'automação',\n",
       "  'robótica',\n",
       "  'é',\n",
       "  'um',\n",
       "  'dos',\n",
       "  'camp0s',\n",
       "  'mais',\n",
       "  'interessantes',\n",
       "  'da',\n",
       "  'tecnologia',\n",
       "  'hoje',\n",
       "  'em-dia'],\n",
       " ['O',\n",
       "  '!',\n",
       "  'processamento',\n",
       "  'de8linguagem',\n",
       "  'natural',\n",
       "  '(',\n",
       "  'PLN',\n",
       "  ')',\n",
       "  'permite',\n",
       "  'que',\n",
       "  'computadores',\n",
       "  'compre+endam',\n",
       "  'a',\n",
       "  'linguagem',\n",
       "  'humana'],\n",
       " ['Chatbots',\n",
       "  'e',\n",
       "  'assistentes',\n",
       "  'de',\n",
       "  'voz',\n",
       "  'sã0',\n",
       "  'um',\n",
       "  'bom',\n",
       "  'exemplo',\n",
       "  'do',\n",
       "  'PLN',\n",
       "  'em',\n",
       "  'ação',\n",
       "  '.']]"
      ]
     },
     "execution_count": 37,
     "metadata": {},
     "output_type": "execute_result"
    }
   ],
   "source": [
    "text"
   ]
  },
  {
   "cell_type": "code",
   "execution_count": 36,
   "id": "c020ffb4",
   "metadata": {},
   "outputs": [
    {
     "name": "stdout",
     "output_type": "stream",
     "text": [
      "A inteligência artificial está transformando o mund0, com n0vas aplicações\n",
      "Algoritmos de aprendizado de máquina sã0 essenciais para isso\n",
      "A automação robótica é um dos camp0s mais interessantes da tecnologia hoje em-dia\n",
      "O! processamento de8linguagem natural (PLN) permite que computadores compre+endam a linguagem humana\n",
      "Chatbots e assistentes de voz sã0 um bom exemplo do PLN em ação.\n"
     ]
    }
   ],
   "source": [
    "for sentence in text:\n",
    "    print(sentence)\n",
    "    text[text.index(sentence)] = pre_processing.tokenization(sentence)\n"
   ]
  },
  {
   "cell_type": "code",
   "execution_count": 39,
   "id": "9fe07dd6",
   "metadata": {},
   "outputs": [],
   "source": [
    "for sentence in text:\n",
    "    text[text.index(sentence)] = pre_processing.remove_stop_words(sentence)\n",
    "\n"
   ]
  },
  {
   "cell_type": "code",
   "execution_count": 26,
   "id": "11c63679",
   "metadata": {},
   "outputs": [
    {
     "name": "stdout",
     "output_type": "stream",
     "text": [
      "['fdgs', 'fdgs', 'fdgs', 'fdgs', 'fdgs']\n"
     ]
    }
   ],
   "source": [
    "for sentence in new_text:\n",
    "\n",
    "    new_text[new_text.index(sentence)] = 'fdgs'\n",
    "print(new_text)"
   ]
  },
  {
   "cell_type": "code",
   "execution_count": null,
   "id": "a7d8b074",
   "metadata": {},
   "outputs": [],
   "source": [
    "import re\n",
    "word = \"A inteligência artificial está transformando o mund0, com n0vas aplicações;\"\n",
    "re.sub(r'[^a-zA-Z0-9\\s]', '', word)"
   ]
  },
  {
   "cell_type": "code",
   "execution_count": null,
   "id": "b3ea1cfc",
   "metadata": {},
   "outputs": [],
   "source": [
    "import re\n",
    "formatted_new_text = []\n",
    "for sentence in new_text:\n",
    "    print(sentence)\n",
    "    for word in sentence:\n",
    "        print(word)\n",
    "        formatted_new_text.append(re.sub(r'[^a-zA-Z0-9\\s]', '', word))\n",
    "    print(formatted_new_text)"
   ]
  }
 ],
 "metadata": {
  "kernelspec": {
   "display_name": ".venv",
   "language": "python",
   "name": "python3"
  },
  "language_info": {
   "codemirror_mode": {
    "name": "ipython",
    "version": 3
   },
   "file_extension": ".py",
   "mimetype": "text/x-python",
   "name": "python",
   "nbconvert_exporter": "python",
   "pygments_lexer": "ipython3",
   "version": "3.13.5"
  }
 },
 "nbformat": 4,
 "nbformat_minor": 5
}
