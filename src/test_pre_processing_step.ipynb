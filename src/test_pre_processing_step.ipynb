{
 "cells": [
  {
   "cell_type": "code",
   "execution_count": 1,
   "id": "69b7885b",
   "metadata": {},
   "outputs": [],
   "source": [
    "# import nltk\n",
    "# nltk.download('rslp')"
   ]
  },
  {
   "cell_type": "code",
   "execution_count": 2,
   "id": "5fe4b120",
   "metadata": {},
   "outputs": [],
   "source": [
    "from models.pre_processing import PreProcessing"
   ]
  },
  {
   "cell_type": "code",
   "execution_count": 3,
   "id": "50c16b9b",
   "metadata": {},
   "outputs": [],
   "source": [
    "text = \"A inteligência artificial está transformando o mund0, com n0vas aplicações; Algoritmos de aprendizado de máquina sã0 essenciais para isso; A automação robótica é um dos camp0s mais interessantes da tecnologia hoje em-dia; O! processamento de8linguagem natural (PLN) permite que computadores compre+endam a linguagem humana; Chatbots e assistentes de voz sã0 um bom exemplo do PLN em ação.\""
   ]
  },
  {
   "cell_type": "code",
   "execution_count": 4,
   "id": "2da35847",
   "metadata": {},
   "outputs": [
    {
     "name": "stderr",
     "output_type": "stream",
     "text": [
      "[nltk_data] Downloading package stopwords to\n",
      "[nltk_data]     C:\\Users\\mbela\\AppData\\Roaming\\nltk_data...\n",
      "[nltk_data]   Package stopwords is already up-to-date!\n"
     ]
    }
   ],
   "source": [
    "pre_processing = PreProcessing()"
   ]
  },
  {
   "cell_type": "code",
   "execution_count": 5,
   "id": "6e4f5cd0",
   "metadata": {},
   "outputs": [
    {
     "data": {
      "text/plain": [
       "[['intelig', 'artific', 'transform', 'mundé', 'nev', 'aplic'],\n",
       " ['algoritm', 'aprend', 'máquin', 'sã', 'essenc'],\n",
       " ['autom', 'robó', 'campé', 'interess', 'tecnolog', 'hoj', 'dia'],\n",
       " ['process',\n",
       "  'deslingu',\n",
       "  'natur',\n",
       "  'plá',\n",
       "  'permit',\n",
       "  'comput',\n",
       "  'compreend',\n",
       "  'lingu',\n",
       "  'human'],\n",
       " ['chat', 'assist', 'voz', 'sã', 'bom', 'exempl', 'plá', 'açã']]"
      ]
     },
     "execution_count": 5,
     "metadata": {},
     "output_type": "execute_result"
    }
   ],
   "source": [
    "text = pre_processing.pipeline(text)\n",
    "text"
   ]
  },
  {
   "cell_type": "code",
   "execution_count": 6,
   "id": "09b474f8",
   "metadata": {},
   "outputs": [
    {
     "ename": "AttributeError",
     "evalue": "'list' object has no attribute 'lower'",
     "output_type": "error",
     "traceback": [
      "\u001b[31m---------------------------------------------------------------------------\u001b[39m",
      "\u001b[31mAttributeError\u001b[39m                            Traceback (most recent call last)",
      "\u001b[36mCell\u001b[39m\u001b[36m \u001b[39m\u001b[32mIn[6]\u001b[39m\u001b[32m, line 1\u001b[39m\n\u001b[32m----> \u001b[39m\u001b[32m1\u001b[39m text = \u001b[43mpre_processing\u001b[49m\u001b[43m.\u001b[49m\u001b[43mlower_text\u001b[49m\u001b[43m(\u001b[49m\u001b[43mtext\u001b[49m\u001b[43m)\u001b[49m\n",
      "\u001b[36mFile \u001b[39m\u001b[32mc:\\Users\\mbela\\source\\pln-trab\\src\\models\\pre_processing.py:61\u001b[39m, in \u001b[36mPreProcessing.lower_text\u001b[39m\u001b[34m(self, text)\u001b[39m\n\u001b[32m     59\u001b[39m \u001b[38;5;28;01mdef\u001b[39;00m\u001b[38;5;250m \u001b[39m\u001b[34mlower_text\u001b[39m(\u001b[38;5;28mself\u001b[39m, text):\n\u001b[32m     60\u001b[39m     \u001b[38;5;28;01mif\u001b[39;00m \u001b[38;5;28misinstance\u001b[39m(text, \u001b[38;5;28mlist\u001b[39m):\n\u001b[32m---> \u001b[39m\u001b[32m61\u001b[39m         new_text = [\u001b[43msentence\u001b[49m\u001b[43m.\u001b[49m\u001b[43mlower\u001b[49m() \u001b[38;5;28;01mfor\u001b[39;00m sentence \u001b[38;5;129;01min\u001b[39;00m text] \n\u001b[32m     62\u001b[39m     \u001b[38;5;28;01melse\u001b[39;00m:\n\u001b[32m     63\u001b[39m         new_text = text.lower()\n",
      "\u001b[31mAttributeError\u001b[39m: 'list' object has no attribute 'lower'"
     ]
    }
   ],
   "source": [
    "text = pre_processing.lower_text(text)"
   ]
  },
  {
   "cell_type": "code",
   "execution_count": null,
   "id": "ab5298a3",
   "metadata": {},
   "outputs": [],
   "source": [
    "text = pre_processing.split_in_documents(text)"
   ]
  },
  {
   "cell_type": "code",
   "execution_count": null,
   "id": "c020ffb4",
   "metadata": {},
   "outputs": [
    {
     "data": {
      "text/plain": [
       "[['a',\n",
       "  'inteligência',\n",
       "  'artificial',\n",
       "  'está',\n",
       "  'transformando',\n",
       "  'o',\n",
       "  'mund0',\n",
       "  ',',\n",
       "  'com',\n",
       "  'n0vas',\n",
       "  'aplicações'],\n",
       " ['algoritmos',\n",
       "  'de',\n",
       "  'aprendizado',\n",
       "  'de',\n",
       "  'máquina',\n",
       "  'sã0',\n",
       "  'essenciais',\n",
       "  'para',\n",
       "  'isso'],\n",
       " ['a',\n",
       "  'automação',\n",
       "  'robótica',\n",
       "  'é',\n",
       "  'um',\n",
       "  'dos',\n",
       "  'camp0s',\n",
       "  'mais',\n",
       "  'interessantes',\n",
       "  'da',\n",
       "  'tecnologia',\n",
       "  'hoje',\n",
       "  'em',\n",
       "  'dia'],\n",
       " ['o',\n",
       "  '!',\n",
       "  'processamento',\n",
       "  'de8linguagem',\n",
       "  'natural',\n",
       "  '(',\n",
       "  'pln',\n",
       "  ')',\n",
       "  'permite',\n",
       "  'que',\n",
       "  'computadores',\n",
       "  'compre+endam',\n",
       "  'a',\n",
       "  'linguagem',\n",
       "  'humana'],\n",
       " ['chatbots',\n",
       "  'e',\n",
       "  'assistentes',\n",
       "  'de',\n",
       "  'voz',\n",
       "  'sã0',\n",
       "  'um',\n",
       "  'bom',\n",
       "  'exemplo',\n",
       "  'do',\n",
       "  'pln',\n",
       "  'em',\n",
       "  'ação',\n",
       "  '.']]"
      ]
     },
     "execution_count": 8,
     "metadata": {},
     "output_type": "execute_result"
    }
   ],
   "source": [
    "for sentence in text:\n",
    "    text[text.index(sentence)] = pre_processing.tokenization(sentence)\n",
    "text"
   ]
  },
  {
   "cell_type": "code",
   "execution_count": null,
   "id": "9fe07dd6",
   "metadata": {},
   "outputs": [
    {
     "data": {
      "text/plain": [
       "[['inteligência',\n",
       "  'artificial',\n",
       "  'transformando',\n",
       "  'mund0',\n",
       "  ',',\n",
       "  'n0vas',\n",
       "  'aplicações'],\n",
       " ['algoritmos', 'aprendizado', 'máquina', 'sã0', 'essenciais'],\n",
       " ['automação',\n",
       "  'robótica',\n",
       "  'camp0s',\n",
       "  'interessantes',\n",
       "  'tecnologia',\n",
       "  'hoje',\n",
       "  'dia'],\n",
       " ['!',\n",
       "  'processamento',\n",
       "  'de8linguagem',\n",
       "  'natural',\n",
       "  '(',\n",
       "  'pln',\n",
       "  ')',\n",
       "  'permite',\n",
       "  'computadores',\n",
       "  'compre+endam',\n",
       "  'linguagem',\n",
       "  'humana'],\n",
       " ['chatbots',\n",
       "  'assistentes',\n",
       "  'voz',\n",
       "  'sã0',\n",
       "  'bom',\n",
       "  'exemplo',\n",
       "  'pln',\n",
       "  'ação',\n",
       "  '.']]"
      ]
     },
     "execution_count": 9,
     "metadata": {},
     "output_type": "execute_result"
    }
   ],
   "source": [
    "for sentence in text:\n",
    "    text[text.index(sentence)] = pre_processing.remove_stop_words(sentence)\n",
    "text\n"
   ]
  },
  {
   "cell_type": "code",
   "execution_count": null,
   "id": "b3ea1cfc",
   "metadata": {},
   "outputs": [
    {
     "data": {
      "text/plain": [
       "[['inteligência',\n",
       "  'artificial',\n",
       "  'transformando',\n",
       "  'mund0',\n",
       "  'n0vas',\n",
       "  'aplicações'],\n",
       " ['algoritmos', 'aprendizado', 'máquina', 'sã0', 'essenciais'],\n",
       " ['automação',\n",
       "  'robótica',\n",
       "  'camp0s',\n",
       "  'interessantes',\n",
       "  'tecnologia',\n",
       "  'hoje',\n",
       "  'dia'],\n",
       " ['processamento',\n",
       "  'de8linguagem',\n",
       "  'natural',\n",
       "  'pln',\n",
       "  'permite',\n",
       "  'computadores',\n",
       "  'compreendam',\n",
       "  'linguagem',\n",
       "  'humana'],\n",
       " ['chatbots', 'assistentes', 'voz', 'sã0', 'bom', 'exemplo', 'pln', 'ação']]"
      ]
     },
     "execution_count": 10,
     "metadata": {},
     "output_type": "execute_result"
    }
   ],
   "source": [
    "for sentence in text:\n",
    "    text[text.index(sentence)] = pre_processing.remove_special_characters(sentence)\n",
    "text"
   ]
  },
  {
   "cell_type": "code",
   "execution_count": null,
   "id": "e4555967",
   "metadata": {},
   "outputs": [
    {
     "data": {
      "text/plain": [
       "[['inteligência',\n",
       "  'artificial',\n",
       "  'transformando',\n",
       "  'mundé',\n",
       "  'nevas',\n",
       "  'aplicações'],\n",
       " ['algoritmos', 'aprendizado', 'máquina', 'sã', 'essenciais'],\n",
       " ['automação',\n",
       "  'robótica',\n",
       "  'campés',\n",
       "  'interessantes',\n",
       "  'tecnologia',\n",
       "  'hoje',\n",
       "  'dia'],\n",
       " ['processamento',\n",
       "  'deslinguarem',\n",
       "  'natural',\n",
       "  'plá',\n",
       "  'permite',\n",
       "  'computadores',\n",
       "  'compreendam',\n",
       "  'linguagem',\n",
       "  'humana'],\n",
       " ['chatos', 'assistentes', 'voz', 'sã', 'bom', 'exemplo', 'plá', 'ação']]"
      ]
     },
     "execution_count": 11,
     "metadata": {},
     "output_type": "execute_result"
    }
   ],
   "source": [
    "for sentence in text:\n",
    "    text[text.index(sentence)] = pre_processing.correct_words(sentence)\n",
    "text"
   ]
  },
  {
   "cell_type": "code",
   "execution_count": null,
   "id": "9c1bee18",
   "metadata": {},
   "outputs": [
    {
     "data": {
      "text/plain": [
       "[['intelig', 'artific', 'transform', 'mundé', 'nev', 'aplic'],\n",
       " ['algoritm', 'aprend', 'máquin', 'sã', 'essenc'],\n",
       " ['autom', 'robó', 'campé', 'interess', 'tecnolog', 'hoj', 'dia'],\n",
       " ['process',\n",
       "  'deslingu',\n",
       "  'natur',\n",
       "  'plá',\n",
       "  'permit',\n",
       "  'comput',\n",
       "  'compreend',\n",
       "  'lingu',\n",
       "  'human'],\n",
       " ['chat', 'assist', 'voz', 'sã', 'bom', 'exempl', 'plá', 'açã']]"
      ]
     },
     "execution_count": 12,
     "metadata": {},
     "output_type": "execute_result"
    }
   ],
   "source": [
    "for sentence in text:\n",
    "\n",
    "    text[text.index(sentence)] = pre_processing.stemming_words(sentence)\n",
    "text"
   ]
  },
  {
   "cell_type": "code",
   "execution_count": null,
   "id": "68b02a61",
   "metadata": {},
   "outputs": [
    {
     "data": {
      "text/plain": [
       "[['intelig', 'artific', 'transform', 'mundé', 'nev', 'aplic'],\n",
       " ['algoritm', 'aprend', 'máquin', 'sã', 'essenc'],\n",
       " ['autom', 'robó', 'campé', 'interess', 'tecnolog', 'hoj', 'dia'],\n",
       " ['process',\n",
       "  'deslingu',\n",
       "  'natur',\n",
       "  'plá',\n",
       "  'permit',\n",
       "  'comput',\n",
       "  'compreend',\n",
       "  'lingu',\n",
       "  'human'],\n",
       " ['chat', 'assist', 'voz', 'sã', 'bom', 'exempl', 'plá', 'açã']]"
      ]
     },
     "execution_count": 13,
     "metadata": {},
     "output_type": "execute_result"
    }
   ],
   "source": [
    "[['intelig', 'artific', 'transform', 'mundé', 'nev', 'aplic'],\n",
    " ['algoritm', 'aprend', 'máquin', 'sã', 'essenc'],\n",
    " ['autom', 'robó', 'campé', 'interess', 'tecnolog', 'hoj', 'dia'],\n",
    " ['process',\n",
    "  'deslingu',\n",
    "  'natur',\n",
    "  'plá',\n",
    "  'permit',\n",
    "  'comput',\n",
    "  'compreend',\n",
    "  'lingu',\n",
    "  'human'],\n",
    " ['chat', 'assist', 'voz', 'sã', 'bom', 'exempl', 'plá', 'açã']]"
   ]
  }
 ],
 "metadata": {
  "kernelspec": {
   "display_name": "pln-trab",
   "language": "python",
   "name": "python3"
  },
  "language_info": {
   "codemirror_mode": {
    "name": "ipython",
    "version": 3
   },
   "file_extension": ".py",
   "mimetype": "text/x-python",
   "name": "python",
   "nbconvert_exporter": "python",
   "pygments_lexer": "ipython3",
   "version": "3.12.11"
  }
 },
 "nbformat": 4,
 "nbformat_minor": 5
}
